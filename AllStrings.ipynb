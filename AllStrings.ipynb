{
 "cells": [
  {
   "cell_type": "markdown",
   "id": "3df43b2f-644f-4a81-ab2f-e896f3b12a5c",
   "metadata": {},
   "source": [
    "# Strings\n"
   ]
  },
  {
   "cell_type": "code",
   "execution_count": null,
   "id": "b7c35fc0-c56f-4f52-9848-43653505cfdc",
   "metadata": {},
   "outputs": [],
   "source": [
    "1.Capitalize- it converts the first character to uppercase"
   ]
  },
  {
   "cell_type": "code",
   "execution_count": 4,
   "id": "f96809de-d340-475b-8993-7274d53ba502",
   "metadata": {},
   "outputs": [
    {
     "name": "stdout",
     "output_type": "stream",
     "text": [
      "capitalize():Hello world\n"
     ]
    }
   ],
   "source": [
    "s=\"hello world\"\n",
    "print(f\"capitalize():{s.capitalize()}\")"
   ]
  },
  {
   "cell_type": "code",
   "execution_count": 6,
   "id": "80cec399-07ae-4bc4-a317-c33d4cf0d75c",
   "metadata": {},
   "outputs": [
    {
     "name": "stdout",
     "output_type": "stream",
     "text": [
      "capitalize():Python programming\n"
     ]
    }
   ],
   "source": [
    "s=\"python programming\"\n",
    "print(f\"capitalize():{s.capitalize()}\")"
   ]
  },
  {
   "cell_type": "code",
   "execution_count": null,
   "id": "145e425a-0883-4900-9714-c58e84abfd77",
   "metadata": {},
   "outputs": [],
   "source": [
    "2.Casefold-it converts the string into lower case"
   ]
  },
  {
   "cell_type": "code",
   "execution_count": 14,
   "id": "3a15ecdc-2273-4434-942b-0068cd2d6276",
   "metadata": {},
   "outputs": [
    {
     "name": "stdout",
     "output_type": "stream",
     "text": [
      "casefold(): hello world\n"
     ]
    }
   ],
   "source": [
    "s = \"HELLO WORLD\"\n",
    "print(f\"casefold(): {s.casefold()}\")"
   ]
  },
  {
   "cell_type": "code",
   "execution_count": 16,
   "id": "9e3972df-209f-4b0e-ab05-b6e08d268181",
   "metadata": {},
   "outputs": [
    {
     "name": "stdout",
     "output_type": "stream",
     "text": [
      "casefold():python programming\n"
     ]
    }
   ],
   "source": [
    "s=\"PYTHON PROGRAMMING\"\n",
    "print(f\"casefold():{s.casefold()}\")"
   ]
  },
  {
   "cell_type": "code",
   "execution_count": null,
   "id": "7a1b33d6-28a9-4467-82a5-4b5ad4a2c681",
   "metadata": {},
   "outputs": [],
   "source": [
    "3.center-center the string, padding with spaces or specified characters"
   ]
  },
  {
   "cell_type": "code",
   "execution_count": 18,
   "id": "3de5d50e-1739-4843-a2c7-ebb082149102",
   "metadata": {},
   "outputs": [
    {
     "name": "stdout",
     "output_type": "stream",
     "text": [
      "center():  Hello   \n"
     ]
    }
   ],
   "source": [
    "s=\"Hello\"\n",
    "print(f\"center():{s.center(10)}\")"
   ]
  },
  {
   "cell_type": "code",
   "execution_count": 22,
   "id": "0968125b-dafe-476a-9279-85f9f2dc0d21",
   "metadata": {},
   "outputs": [
    {
     "name": "stdout",
     "output_type": "stream",
     "text": [
      "center():*******World********\n"
     ]
    }
   ],
   "source": [
    "s=\"World\"\n",
    "print(f\"center():{s.center(20,'*')}\")"
   ]
  },
  {
   "cell_type": "code",
   "execution_count": null,
   "id": "42554372-0499-43d8-9319-a8fed2ee5b95",
   "metadata": {},
   "outputs": [],
   "source": [
    "4.count- it returns the number of occurences of a substring"
   ]
  },
  {
   "cell_type": "code",
   "execution_count": 24,
   "id": "bb260184-bf02-4287-8aea-96a436b8a434",
   "metadata": {},
   "outputs": [
    {
     "name": "stdout",
     "output_type": "stream",
     "text": [
      "count('o'):2\n"
     ]
    }
   ],
   "source": [
    "s=\"Hello World\"\n",
    "print(f\"count('o'):{s.count('o')}\")"
   ]
  },
  {
   "cell_type": "code",
   "execution_count": 26,
   "id": "c3900ac4-797f-4bc6-b239-c10adc8e0e43",
   "metadata": {},
   "outputs": [
    {
     "name": "stdout",
     "output_type": "stream",
     "text": [
      "count('p'):1\n"
     ]
    }
   ],
   "source": [
    "s=\"Python programming\"\n",
    "print(f\"count('p'):{s.count('p')}\")"
   ]
  },
  {
   "cell_type": "code",
   "execution_count": null,
   "id": "d5a8a94e-f104-4fc5-ad3d-4f97f25d308d",
   "metadata": {},
   "outputs": [],
   "source": [
    "5.Encode- Encodes the string into bytes"
   ]
  },
  {
   "cell_type": "code",
   "execution_count": 28,
   "id": "a5e11534-22b9-4397-8dde-f27c8e787018",
   "metadata": {},
   "outputs": [
    {
     "name": "stdout",
     "output_type": "stream",
     "text": [
      "encode():b'hello'\n"
     ]
    }
   ],
   "source": [
    "s=\"hello\"\n",
    "print(f\"encode():{s.encode()}\")"
   ]
  },
  {
   "cell_type": "code",
   "execution_count": 30,
   "id": "04981eda-b01a-45da-b99e-d8e1b0835de4",
   "metadata": {},
   "outputs": [
    {
     "name": "stdout",
     "output_type": "stream",
     "text": [
      "encode(utf-8):b'world'\n"
     ]
    }
   ],
   "source": [
    "s=\"world\"\n",
    "print(f\"encode(utf-8):{s.encode('utf-8')}\")"
   ]
  },
  {
   "cell_type": "code",
   "execution_count": null,
   "id": "3081ff2d-e03b-4767-aed4-02dbc7091da6",
   "metadata": {},
   "outputs": [],
   "source": [
    "6.Endswith- it returns true if the string end with the specified suffix"
   ]
  },
  {
   "cell_type": "code",
   "execution_count": 36,
   "id": "ee9efdcc-8c9d-4933-b7e9-5f0cb378aa16",
   "metadata": {},
   "outputs": [
    {
     "name": "stdout",
     "output_type": "stream",
     "text": [
      "endswith('world'):True\n"
     ]
    }
   ],
   "source": [
    "s=\"hello world\"\n",
    "print(f\"endswith('world'):{s.endswith('world')}\")"
   ]
  },
  {
   "cell_type": "code",
   "execution_count": 38,
   "id": "f2764aed-b1ba-438c-8acc-fb296fe2539a",
   "metadata": {},
   "outputs": [
    {
     "name": "stdout",
     "output_type": "stream",
     "text": [
      "endswith('hello'):False\n"
     ]
    }
   ],
   "source": [
    "s=\"hello world\"\n",
    "print(f\"endswith('hello'):{s.endswith('hello')}\")"
   ]
  },
  {
   "cell_type": "code",
   "execution_count": null,
   "id": "a72a7981-8caf-4830-8b5f-170bda91ce74",
   "metadata": {},
   "outputs": [],
   "source": [
    "7.Expandtabs-replace tabs with spaces"
   ]
  },
  {
   "cell_type": "code",
   "execution_count": 40,
   "id": "42aa030c-f50b-4a72-b37a-fedc94d25e2f",
   "metadata": {},
   "outputs": [
    {
     "name": "stdout",
     "output_type": "stream",
     "text": [
      "expandtabs(4):Hello   World\n"
     ]
    }
   ],
   "source": [
    "s=\"Hello\\tWorld\"\n",
    "print(f\"expandtabs(4):{s.expandtabs(4)}\")"
   ]
  },
  {
   "cell_type": "code",
   "execution_count": 42,
   "id": "bcdab429-3ff2-4ae6-afad-32c6e3b65e47",
   "metadata": {},
   "outputs": [
    {
     "name": "stdout",
     "output_type": "stream",
     "text": [
      "expandtabs(8):Pynthon Programming\n"
     ]
    }
   ],
   "source": [
    " s=\"Pynthon\\tProgramming\"\n",
    "print(f\"expandtabs(8):{s.expandtabs(8)}\")"
   ]
  },
  {
   "cell_type": "code",
   "execution_count": null,
   "id": "31273d95-78b8-4ed0-88c5-a3e096ffaad4",
   "metadata": {},
   "outputs": [],
   "source": [
    "8.Find- returns the lowest index of the substring"
   ]
  },
  {
   "cell_type": "code",
   "execution_count": 44,
   "id": "987e7345-92ec-4293-842b-71e4d5338e26",
   "metadata": {},
   "outputs": [
    {
     "name": "stdout",
     "output_type": "stream",
     "text": [
      "find('World'):-1\n"
     ]
    }
   ],
   "source": [
    "s=\"Hello World\"\n",
    "print(f\"find('World'):{s.find('world')}\")"
   ]
  },
  {
   "cell_type": "code",
   "execution_count": 46,
   "id": "0430874a-652b-447f-9bfa-2c6cf313f255",
   "metadata": {},
   "outputs": [
    {
     "name": "stdout",
     "output_type": "stream",
     "text": [
      "find('Python'):0\n"
     ]
    }
   ],
   "source": [
    "s=\"Python Programming\"\n",
    "print(f\"find('Python'):{s.find('Python')}\")"
   ]
  },
  {
   "cell_type": "code",
   "execution_count": null,
   "id": "c34a1690-d7a6-4e8a-bfe2-f3b31838c394",
   "metadata": {},
   "outputs": [],
   "source": [
    "9.Format-Formats string using placeholders"
   ]
  },
  {
   "cell_type": "code",
   "execution_count": 1,
   "id": "c370e39c-15cc-4678-8d5a-d43e7a970e5a",
   "metadata": {},
   "outputs": [
    {
     "name": "stdout",
     "output_type": "stream",
     "text": [
      "format('Alice'):Hello, Alice\n"
     ]
    }
   ],
   "source": [
    "s=\"Hello, {}\"\n",
    "print(f\"format('Alice'):{s.format('Alice')}\")"
   ]
  },
  {
   "cell_type": "code",
   "execution_count": 3,
   "id": "b7e275ca-be77-4f8a-afa7-8ee4cd9c4a7c",
   "metadata": {},
   "outputs": [
    {
     "name": "stdout",
     "output_type": "stream",
     "text": [
      "format('Prerna'):My name is Prerna\n"
     ]
    }
   ],
   "source": [
    "s=\"My name is {}\"\n",
    "print(f\"format('Prerna'):{s.format('Prerna')}\")"
   ]
  },
  {
   "cell_type": "code",
   "execution_count": null,
   "id": "36399a26-55d3-4b28-98d7-cd9e5be1b417",
   "metadata": {},
   "outputs": [],
   "source": [
    "10.isalpha-returns true if all characters in the string are alphabetic"
   ]
  },
  {
   "cell_type": "code",
   "execution_count": 5,
   "id": "7f037f90-91e2-4b42-9402-8db7fcc294f2",
   "metadata": {},
   "outputs": [
    {
     "name": "stdout",
     "output_type": "stream",
     "text": [
      "isalpha():True\n"
     ]
    }
   ],
   "source": [
    "s=\"Hello\"\n",
    "print(f\"isalpha():{s.isalpha()}\")"
   ]
  },
  {
   "cell_type": "code",
   "execution_count": 7,
   "id": "79f3983a-b676-4732-a234-a37a3b9b1e23",
   "metadata": {},
   "outputs": [
    {
     "name": "stdout",
     "output_type": "stream",
     "text": [
      "isalpha():False\n"
     ]
    }
   ],
   "source": [
    "s=\"Hello123\"\n",
    "print(f\"isalpha():{s.isalpha()}\")"
   ]
  },
  {
   "cell_type": "code",
   "execution_count": null,
   "id": "45312169-cdf3-4131-8411-22ae6a8e3801",
   "metadata": {},
   "outputs": [],
   "source": [
    "11.isdigit-returns true if all characters in the string are digits"
   ]
  },
  {
   "cell_type": "code",
   "execution_count": 9,
   "id": "0d330768-33c6-4701-b848-79596a46d920",
   "metadata": {},
   "outputs": [
    {
     "name": "stdout",
     "output_type": "stream",
     "text": [
      "isdigit():True\n"
     ]
    }
   ],
   "source": [
    "s=\"12345\"\n",
    "print(f\"isdigit():{s.isdigit()}\")"
   ]
  },
  {
   "cell_type": "code",
   "execution_count": 15,
   "id": "dfaa0530-813c-49d3-9bbe-66fb1f11e146",
   "metadata": {},
   "outputs": [
    {
     "name": "stdout",
     "output_type": "stream",
     "text": [
      "isdigit():False\n"
     ]
    }
   ],
   "source": [
    "s= \"123a\"\n",
    "print(f\"isdigit():{s.isdigit()}\")"
   ]
  },
  {
   "cell_type": "code",
   "execution_count": null,
   "id": "0bbf2b84-ac0e-437d-898c-17db8bdf8460",
   "metadata": {},
   "outputs": [],
   "source": [
    "12.islower-returns true if all characters are lowercase"
   ]
  },
  {
   "cell_type": "code",
   "execution_count": 17,
   "id": "6f0386c6-514b-4292-b842-49f35a37dc41",
   "metadata": {},
   "outputs": [
    {
     "name": "stdout",
     "output_type": "stream",
     "text": [
      "islower():True\n"
     ]
    }
   ],
   "source": [
    "s=\"hello\"\n",
    "print(f\"islower():{s.islower()}\")"
   ]
  },
  {
   "cell_type": "code",
   "execution_count": 19,
   "id": "b07c775e-c4e0-400a-8c3d-171a2bb14859",
   "metadata": {},
   "outputs": [
    {
     "name": "stdout",
     "output_type": "stream",
     "text": [
      "islower():False\n"
     ]
    }
   ],
   "source": [
    "s=\"Hello\"\n",
    "print(f\"islower():{s.islower()}\")"
   ]
  },
  {
   "cell_type": "code",
   "execution_count": null,
   "id": "26ac8a76-beee-400d-87c7-dde17579b2fe",
   "metadata": {},
   "outputs": [],
   "source": [
    "13.join-joins the elements of an iterable with a string separator "
   ]
  },
  {
   "cell_type": "code",
   "execution_count": 21,
   "id": "31e2216d-b286-423e-9f62-ab55d6799d9b",
   "metadata": {},
   "outputs": [
    {
     "name": "stdout",
     "output_type": "stream",
     "text": [
      "join():apple,banana,cherry\n"
     ]
    }
   ],
   "source": [
    "s=\",\"\n",
    "print(f\"join():{s.join(['apple','banana','cherry'])}\")"
   ]
  },
  {
   "cell_type": "code",
   "execution_count": 23,
   "id": "b0886a94-83a9-4c5e-b6d1-97c27a12f111",
   "metadata": {},
   "outputs": [
    {
     "name": "stdout",
     "output_type": "stream",
     "text": [
      "join():python-java-c++\n"
     ]
    }
   ],
   "source": [
    "s=\"-\"\n",
    "print(f\"join():{s.join(['python','java','c++'])}\")"
   ]
  },
  {
   "cell_type": "code",
   "execution_count": null,
   "id": "28525a83-11fb-4e6c-a736-70e67e71ec72",
   "metadata": {},
   "outputs": [],
   "source": [
    "14.lower-it converts string to owercase"
   ]
  },
  {
   "cell_type": "code",
   "execution_count": 31,
   "id": "28fd9593-650e-43af-83cb-75ab74c493ab",
   "metadata": {},
   "outputs": [
    {
     "name": "stdout",
     "output_type": "stream",
     "text": [
      "lower():hello\n"
     ]
    }
   ],
   "source": [
    "s=\"HELLO\"\n",
    "print(f\"lower():{s.lower()}\")"
   ]
  },
  {
   "cell_type": "code",
   "execution_count": 27,
   "id": "a32b8d03-5f39-4e86-b11e-c305224dd703",
   "metadata": {},
   "outputs": [
    {
     "name": "stdout",
     "output_type": "stream",
     "text": [
      "lower():python programming\n"
     ]
    }
   ],
   "source": [
    "s=\"PYTHON PROGRAMMING\"\n",
    "print(f\"lower():{s.lower()}\")"
   ]
  },
  {
   "cell_type": "code",
   "execution_count": null,
   "id": "d4909547-4645-4e6e-ad83-9f1fc26342d6",
   "metadata": {},
   "outputs": [],
   "source": [
    "15.lstrip-remove leading spaces or specified characters"
   ]
  },
  {
   "cell_type": "code",
   "execution_count": 33,
   "id": "69bfdcc1-f088-470b-be4b-257029737aa0",
   "metadata": {},
   "outputs": [
    {
     "name": "stdout",
     "output_type": "stream",
     "text": [
      "lstrip(): 'Hello'\n"
     ]
    }
   ],
   "source": [
    "s=\"     Hello\"\n",
    "print(f\"lstrip(): '{s.lstrip()}'\")"
   ]
  },
  {
   "cell_type": "code",
   "execution_count": 39,
   "id": "17ee74a6-31d6-4e07-8c73-1508595179a3",
   "metadata": {},
   "outputs": [
    {
     "name": "stdout",
     "output_type": "stream",
     "text": [
      "lstrip('>'): 'Hello'\n"
     ]
    }
   ],
   "source": [
    "s=\">>>Hello\"\n",
    "print(f\"lstrip('>'): '{s.lstrip('>')}'\")"
   ]
  },
  {
   "cell_type": "code",
   "execution_count": null,
   "id": "d1ab9f1d-d957-4ab1-856b-110fc21e1e96",
   "metadata": {},
   "outputs": [],
   "source": [
    "16.replace-replaces specified characters in a string"
   ]
  },
  {
   "cell_type": "code",
   "execution_count": 41,
   "id": "49a397f2-2b2e-47f1-8d31-c11900fbb431",
   "metadata": {},
   "outputs": [
    {
     "name": "stdout",
     "output_type": "stream",
     "text": [
      "repalce('World','Python'):Hello Python\n"
     ]
    }
   ],
   "source": [
    "s=\"Hello World\"\n",
    "print(f\"repalce('World','Python'):{s.replace('World','Python')}\")"
   ]
  },
  {
   "cell_type": "code",
   "execution_count": 43,
   "id": "39cafa40-cfd7-4868-ac5f-1a5e07ce1403",
   "metadata": {},
   "outputs": [
    {
     "name": "stdout",
     "output_type": "stream",
     "text": [
      "repalce('a','x'):xbxbxbxb\n"
     ]
    }
   ],
   "source": [
    "s=\"abababab\"\n",
    "print(f\"repalce('a','x'):{s.replace('a','x')}\")"
   ]
  },
  {
   "cell_type": "code",
   "execution_count": null,
   "id": "ed0c3377-2b89-4228-907d-7ced1e209514",
   "metadata": {},
   "outputs": [],
   "source": [
    "17.split-saplits the string into a list"
   ]
  },
  {
   "cell_type": "code",
   "execution_count": 45,
   "id": "a9ea81bb-8bf6-444c-a7a9-6955ac9d929a",
   "metadata": {},
   "outputs": [
    {
     "name": "stdout",
     "output_type": "stream",
     "text": [
      "split():['Hello', 'World']\n"
     ]
    }
   ],
   "source": [
    "s=\"Hello World\"\n",
    "print(f\"split():{s.split()}\")"
   ]
  },
  {
   "cell_type": "code",
   "execution_count": 53,
   "id": "b1a90a76-51fa-4d34-90ac-765f8169fd16",
   "metadata": {},
   "outputs": [
    {
     "name": "stdout",
     "output_type": "stream",
     "text": [
      "split():['apple,banana,cherry']\n"
     ]
    }
   ],
   "source": [
    "s=\"apple,banana,cherry\"\n",
    "print(f\"split():{s.split()}\")"
   ]
  },
  {
   "cell_type": "code",
   "execution_count": null,
   "id": "54ac72ac-f3bb-461e-807a-faf7f22360ef",
   "metadata": {},
   "outputs": [],
   "source": [
    "18.strip-removes leading and trailing spaces or specified characters"
   ]
  },
  {
   "cell_type": "code",
   "execution_count": 55,
   "id": "ddac211f-b86c-4760-bd74-4c9b8f1d12f4",
   "metadata": {},
   "outputs": [
    {
     "name": "stdout",
     "output_type": "stream",
     "text": [
      "strip(): 'Hello World'\n"
     ]
    }
   ],
   "source": [
    "s=\"    Hello World     \"\n",
    "print(f\"strip(): '{s.strip()}'\")"
   ]
  },
  {
   "cell_type": "code",
   "execution_count": 57,
   "id": "2f3cd4a1-30f2-466a-bcc4-f2e7fed93977",
   "metadata": {},
   "outputs": [
    {
     "name": "stdout",
     "output_type": "stream",
     "text": [
      "strip('*'): 'Hello'\n"
     ]
    }
   ],
   "source": [
    "s=\"***Hello***\"\n",
    "print(f\"strip('*'): '{s.strip('*')}'\")"
   ]
  },
  {
   "cell_type": "code",
   "execution_count": null,
   "id": "441aaa4f-d5b4-4e47-85b3-701860d691d7",
   "metadata": {},
   "outputs": [],
   "source": [
    "19. swapcase-swap the case lowercase becomes uppeercase and vice versa"
   ]
  },
  {
   "cell_type": "code",
   "execution_count": 61,
   "id": "6302ef6d-9705-47c1-9543-ec535cef2785",
   "metadata": {},
   "outputs": [
    {
     "name": "stdout",
     "output_type": "stream",
     "text": [
      "swapcase():hELLO wORLD\n"
     ]
    }
   ],
   "source": [
    "s=\"Hello World\"\n",
    "print(f\"swapcase():{s.swapcase()}\")"
   ]
  },
  {
   "cell_type": "code",
   "execution_count": 65,
   "id": "0b79fc02-a37a-4786-a235-96db35c3ee00",
   "metadata": {},
   "outputs": [
    {
     "name": "stdout",
     "output_type": "stream",
     "text": [
      "swapcase():python PROGRAMMING\n"
     ]
    }
   ],
   "source": [
    "s=\"PYTHON programming\"\n",
    "print(f\"swapcase():{s.swapcase()}\")"
   ]
  },
  {
   "cell_type": "code",
   "execution_count": null,
   "id": "67ad6f75-b80f-461c-bfbe-4ae38d8172eb",
   "metadata": {},
   "outputs": [],
   "source": [
    "20. Title-converts the first character of each word to uppercase"
   ]
  },
  {
   "cell_type": "code",
   "execution_count": 1,
   "id": "64107f8d-b862-4c20-879c-3243eec25140",
   "metadata": {},
   "outputs": [
    {
     "name": "stdout",
     "output_type": "stream",
     "text": [
      "title(): Hello World\n"
     ]
    }
   ],
   "source": [
    "s=\"hello world\"\n",
    "print(f\"title(): {s.title()}\")"
   ]
  },
  {
   "cell_type": "code",
   "execution_count": 3,
   "id": "8d6a06f0-cce7-4f0a-acaf-c3ecb2b59f8e",
   "metadata": {},
   "outputs": [
    {
     "name": "stdout",
     "output_type": "stream",
     "text": [
      "title():Python Programming\n"
     ]
    }
   ],
   "source": [
    "s=\"python programming\"\n",
    "print(f\"title():{s.title()}\")\n"
   ]
  },
  {
   "cell_type": "code",
   "execution_count": null,
   "id": "a6cfad06-4dd7-4897-9224-79c80e14a7a5",
   "metadata": {},
   "outputs": [],
   "source": [
    "21.upper-converts string to uppercase"
   ]
  },
  {
   "cell_type": "code",
   "execution_count": 5,
   "id": "8647d09f-fc23-45a5-8cf0-0e69ae3cd7e6",
   "metadata": {},
   "outputs": [
    {
     "name": "stdout",
     "output_type": "stream",
     "text": [
      "upper():HELLO\n"
     ]
    }
   ],
   "source": [
    "s=\"hello\"\n",
    "print(f\"upper():{s.upper()}\")"
   ]
  },
  {
   "cell_type": "code",
   "execution_count": 7,
   "id": "531c6247-de5a-4ae3-925a-8d4c9c63cd47",
   "metadata": {},
   "outputs": [
    {
     "name": "stdout",
     "output_type": "stream",
     "text": [
      "upper():PYTHON PROGRAMMING\n"
     ]
    }
   ],
   "source": [
    "s=\"python programming\"\n",
    "print(f\"upper():{s.upper()}\")"
   ]
  },
  {
   "cell_type": "code",
   "execution_count": null,
   "id": "e0a67db5-0f4c-40b8-af05-51028e9b61bf",
   "metadata": {},
   "outputs": [],
   "source": []
  }
 ],
 "metadata": {
  "kernelspec": {
   "display_name": "Python 3 (ipykernel)",
   "language": "python",
   "name": "python3"
  },
  "language_info": {
   "codemirror_mode": {
    "name": "ipython",
    "version": 3
   },
   "file_extension": ".py",
   "mimetype": "text/x-python",
   "name": "python",
   "nbconvert_exporter": "python",
   "pygments_lexer": "ipython3",
   "version": "3.12.4"
  }
 },
 "nbformat": 4,
 "nbformat_minor": 5
}
